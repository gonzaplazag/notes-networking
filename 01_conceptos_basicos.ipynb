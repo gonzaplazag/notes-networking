{
 "cells": [
  {
   "cell_type": "markdown",
   "metadata": {},
   "source": [
    "## De que tratan estas notas\n",
    "\n",
    "Las notas tratan de *network programming** o sea, de la capacidad de realizar ciertas tareas con redes de computadoras mediante Python.\n",
    "\n",
    "Es importante diferenciar esto de la *construcción de redes*. Los ingenieros de redes y administradores de redes pueden crear, a partir de cierto hardware y software, redes de computadoras funcionales, que posteriormente son utilizadas por los usuarios. Este no es el foco de estas notas.\n",
    "\n",
    "## Como realizar network programming con Python\n",
    "\n",
    "Las redes de computadores ofrecen ciertos *servicios de red*. Estos servicios específicos en general son de bajo nivel, y sobre estos se programan servicios de más alto nivel que son los que realmente se utilizan.\n",
    "\n",
    "Existen en python un conjunto de librerías que permiten acceder a los servicios de bajo nivel, para generar servicios de alto nivel."
   ]
  },
  {
   "cell_type": "code",
   "execution_count": 2,
   "metadata": {},
   "outputs": [],
   "source": [
    "import urllib\n",
    "import json"
   ]
  },
  {
   "cell_type": "code",
   "execution_count": 16,
   "metadata": {},
   "outputs": [
    {
     "name": "stdout",
     "output_type": "stream",
     "text": [
      "http://google.com/maps/place/q=207+N.+Defiance+St%2C+Archbold%2C+OH&output=json&oe=utf8\n"
     ]
    }
   ],
   "source": [
    "params = {'q': '207 N. Defiance St, Archbold, OH',\n",
    "          'output': 'json',\n",
    "          'oe': 'utf8'}\n",
    "\n",
    "#.parse.urlencode() takes a dictionary and returns a string suitable for a URL\n",
    "url = 'http://google.com/maps/place/' + urllib.parse.urlencode(params)\n",
    "print(url)"
   ]
  },
  {
   "cell_type": "code",
   "execution_count": 19,
   "metadata": {},
   "outputs": [
    {
     "ename": "TypeError",
     "evalue": "JSONDecoder.__init__() got an unexpected keyword argument 'encoding'",
     "output_type": "error",
     "traceback": [
      "\u001b[0;31m---------------------------------------------------------------------------\u001b[0m",
      "\u001b[0;31mTypeError\u001b[0m                                 Traceback (most recent call last)",
      "Cell \u001b[0;32mIn[19], line 2\u001b[0m\n\u001b[1;32m      1\u001b[0m raw_reply \u001b[38;5;241m=\u001b[39m urllib\u001b[38;5;241m.\u001b[39mrequest\u001b[38;5;241m.\u001b[39murlopen(url)\u001b[38;5;241m.\u001b[39mread()\n\u001b[0;32m----> 2\u001b[0m reply \u001b[38;5;241m=\u001b[39m \u001b[43mjson\u001b[49m\u001b[38;5;241;43m.\u001b[39;49m\u001b[43mloads\u001b[49m\u001b[43m(\u001b[49m\u001b[43mraw_reply\u001b[49m\u001b[43m,\u001b[49m\u001b[43m \u001b[49m\u001b[43mencoding\u001b[49m\u001b[38;5;241;43m=\u001b[39;49m\u001b[38;5;124;43m'\u001b[39;49m\u001b[38;5;124;43mutf-8\u001b[39;49m\u001b[38;5;124;43m'\u001b[39;49m\u001b[43m)\u001b[49m\n",
      "File \u001b[0;32m/usr/lib/python3.10/json/__init__.py:359\u001b[0m, in \u001b[0;36mloads\u001b[0;34m(s, cls, object_hook, parse_float, parse_int, parse_constant, object_pairs_hook, **kw)\u001b[0m\n\u001b[1;32m    357\u001b[0m \u001b[38;5;28;01mif\u001b[39;00m parse_constant \u001b[38;5;129;01mis\u001b[39;00m \u001b[38;5;129;01mnot\u001b[39;00m \u001b[38;5;28;01mNone\u001b[39;00m:\n\u001b[1;32m    358\u001b[0m     kw[\u001b[38;5;124m'\u001b[39m\u001b[38;5;124mparse_constant\u001b[39m\u001b[38;5;124m'\u001b[39m] \u001b[38;5;241m=\u001b[39m parse_constant\n\u001b[0;32m--> 359\u001b[0m \u001b[38;5;28;01mreturn\u001b[39;00m \u001b[38;5;28;43mcls\u001b[39;49m\u001b[43m(\u001b[49m\u001b[38;5;241;43m*\u001b[39;49m\u001b[38;5;241;43m*\u001b[39;49m\u001b[43mkw\u001b[49m\u001b[43m)\u001b[49m\u001b[38;5;241m.\u001b[39mdecode(s)\n",
      "\u001b[0;31mTypeError\u001b[0m: JSONDecoder.__init__() got an unexpected keyword argument 'encoding'"
     ]
    }
   ],
   "source": [
    "raw_reply = urllib.request.urlopen(url).read()\n",
    "reply = json.loads(raw_repl\n",
    "                   y)"
   ]
  },
  {
   "cell_type": "code",
   "execution_count": null,
   "metadata": {},
   "outputs": [],
   "source": []
  }
 ],
 "metadata": {
  "kernelspec": {
   "display_name": "venv",
   "language": "python",
   "name": "python3"
  },
  "language_info": {
   "codemirror_mode": {
    "name": "ipython",
    "version": 3
   },
   "file_extension": ".py",
   "mimetype": "text/x-python",
   "name": "python",
   "nbconvert_exporter": "python",
   "pygments_lexer": "ipython3",
   "version": "3.10.12"
  }
 },
 "nbformat": 4,
 "nbformat_minor": 2
}
